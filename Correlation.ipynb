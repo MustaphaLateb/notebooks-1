{
 "cells": [
  {
   "cell_type": "code",
   "execution_count": null,
   "metadata": {
    "collapsed": false
   },
   "outputs": [],
   "source": [
    "%pylab inline\n",
    "\n",
    "import numpy as np\n",
    "import pandas as pd\n",
    "import matplotlib.pyplot as plt\n",
    "import seaborn\n",
    "import datetime as dt"
   ]
  },
  {
   "cell_type": "code",
   "execution_count": null,
   "metadata": {
    "collapsed": false
   },
   "outputs": [],
   "source": [
    "import yatsm\n",
    "from yatsm.io import read_pixel_timeseries\n",
    "from yatsm.utils import csvfile_to_dataframe, get_image_IDs\n",
    "from yatsm.config_parser import convert_config, parse_config_file\n",
    "from yatsm.config_parser import convert_config, parse_config_file\n",
    "import yatsm._cyprep as cyprep"
   ]
  },
  {
   "cell_type": "markdown",
   "metadata": {},
   "source": [
    "Read in config file and dates:"
   ]
  },
  {
   "cell_type": "code",
   "execution_count": null,
   "metadata": {
    "collapsed": false
   },
   "outputs": [],
   "source": [
    "## SPECIFY CONFIG FILE\n",
    "config_file = '/projectnb/landsat/projects/Massachusetts/p012r031/p012r031_config.yaml'\n",
    "\n",
    "# Read in and parse config file\n",
    "cfg = parse_config_file(config_file)"
   ]
  },
  {
   "cell_type": "code",
   "execution_count": null,
   "metadata": {
    "collapsed": false
   },
   "outputs": [],
   "source": [
    "# Get files list\n",
    "df = csvfile_to_dataframe(cfg['dataset']['input_file'], \\\n",
    "                          date_format=cfg['dataset']['date_format'])"
   ]
  },
  {
   "cell_type": "code",
   "execution_count": null,
   "metadata": {
    "collapsed": false
   },
   "outputs": [],
   "source": [
    "# Get dates\n",
    "df['image_ID'] = get_image_IDs(df['filename']) \n",
    "df['x'] = df['date'] \n",
    "dates = df['date'].values"
   ]
  },
  {
   "cell_type": "markdown",
   "metadata": {},
   "source": [
    "Specify pixel to run:"
   ]
  },
  {
   "cell_type": "code",
   "execution_count": null,
   "metadata": {
    "collapsed": true
   },
   "outputs": [],
   "source": [
    "# SPECIFY PIXEL TO RUN\n",
    "py = 4538 # row\n",
    "px = 4622 # column"
   ]
  },
  {
   "cell_type": "markdown",
   "metadata": {},
   "source": [
    "Configure model and read in time series:"
   ]
  },
  {
   "cell_type": "code",
   "execution_count": null,
   "metadata": {
    "collapsed": false
   },
   "outputs": [],
   "source": [
    "# Configure model\n",
    "#model = cfg['YATSM']['algorithm_cls']\n",
    "#algo_cfg = cfg[cfg['YATSM']['algorithm']]\n",
    "#yatsm = model(estimator=cfg['YATSM']['estimator'], \\\n",
    "#                  **algo_cfg.get('init', {}))\n",
    "#yatsm.px = px\n",
    "#yatsm.py = py"
   ]
  },
  {
   "cell_type": "code",
   "execution_count": null,
   "metadata": {
    "collapsed": false
   },
   "outputs": [],
   "source": [
    "# Setup algorithm and create design matrix (if needed)\n",
    "#X = yatsm.setup(df, **cfg)\n",
    "#design_info = getattr(X, 'design_info', None)"
   ]
  },
  {
   "cell_type": "code",
   "execution_count": null,
   "metadata": {
    "collapsed": false
   },
   "outputs": [],
   "source": [
    "# Read in time series as numpy array\n",
    "Y = read_pixel_timeseries(df['filename'], px, py)"
   ]
  },
  {
   "cell_type": "markdown",
   "metadata": {},
   "source": [
    "Mask time series based on physical constraints and Fmask:"
   ]
  },
  {
   "cell_type": "code",
   "execution_count": null,
   "metadata": {
    "collapsed": false
   },
   "outputs": [],
   "source": [
    "# Mask based on physical constraints and Fmask \n",
    "valid = cyprep.get_valid_mask( \\\n",
    "            Y, \\\n",
    "            cfg['dataset']['min_values'], \\\n",
    "            cfg['dataset']['max_values']).astype(bool)\n",
    "\n",
    "# Apply mask band\n",
    "idx_mask = cfg['dataset']['mask_band'] - 1\n",
    "valid *= np.in1d(Y.take(idx_mask, axis=0), \\\n",
    "                         cfg['dataset']['mask_values'], \\\n",
    "                         invert=True).astype(np.bool)\n",
    "\n",
    "Y = np.delete(Y, idx_mask, axis=0)[:, valid]\n",
    "#X = X[valid, :]\n",
    "dates = dates[valid]"
   ]
  },
  {
   "cell_type": "markdown",
   "metadata": {},
   "source": [
    "Plot example time series:"
   ]
  },
  {
   "cell_type": "code",
   "execution_count": null,
   "metadata": {
    "collapsed": false
   },
   "outputs": [],
   "source": [
    "# convert time from ordinal to dates\n",
    "dt_dates = np.array([dt.datetime.fromordinal(d) for d in dates])"
   ]
  },
  {
   "cell_type": "code",
   "execution_count": null,
   "metadata": {
    "collapsed": false
   },
   "outputs": [],
   "source": [
    "# Plot time series - visual check\n",
    "band = 9\n",
    "\n",
    "plt.figure(figsize=(16,4),facecolor='w', edgecolor='k')\n",
    "plt.plot(dt_dates, Y[band, :],'ko')\n",
    "plt.title([py, px])\n",
    "plt.show()"
   ]
  },
  {
   "cell_type": "markdown",
   "metadata": {},
   "source": [
    "Correlation Analysis:"
   ]
  },
  {
   "cell_type": "code",
   "execution_count": null,
   "metadata": {
    "collapsed": false
   },
   "outputs": [],
   "source": [
    "# Read np array into pandas dataframe - exclude Fmask result\n",
    "Y_df = pd.DataFrame(Y[0:10])"
   ]
  },
  {
   "cell_type": "code",
   "execution_count": null,
   "metadata": {
    "collapsed": false
   },
   "outputs": [],
   "source": [
    "# Transpose time series dataframe for correlation analysis\n",
    "Y_t = Y_df.transpose()\n",
    "Y_t.columns = ['Blue', 'Green', 'Red', 'NIR', 'SWIR1', 'SWIR2', \\\n",
    "                        'Thermal', 'Brightness', 'Greenness', 'Wetness'] "
   ]
  },
  {
   "cell_type": "code",
   "execution_count": null,
   "metadata": {
    "collapsed": false
   },
   "outputs": [],
   "source": [
    "# Calculate pearson correlation matrix\n",
    "corr_df = Y_t.corr(method='pearson')\n",
    "corr_df"
   ]
  },
  {
   "cell_type": "code",
   "execution_count": null,
   "metadata": {
    "collapsed": false
   },
   "outputs": [],
   "source": [
    "# Create a mask to display only the lower triangle of the matrix (since it's mirrored around its \n",
    "# top-left to bottom-right diagonal).\n",
    "mask = np.zeros_like(corr_df)\n",
    "mask[np.triu_indices_from(mask, 1)] = True\n",
    "\n",
    "# Create the heatmap using seaborn library. \n",
    "# List if colormaps (parameter 'cmap') is available here: http://matplotlib.org/examples/color/colormaps_reference.html\n",
    "\n",
    "plt.figure(figsize=(16,12),facecolor='w', edgecolor='k')\n",
    "seaborn.heatmap(corr_df, cmap='seismic', vmax=1.0, vmin=-1.0, linewidths=2.5, mask = mask, square=True)\n",
    "seaborn.heatmap(corr_df, cmap='gist_rainbow', cbar=False, annot=True, fmt='0.2f', annot_kws={\"size\": 20}, alpha=0.0, square=True)\n",
    "\n",
    "# Show the plot we reorient the labels for each column and row to make them easier to read.\n",
    "cax = plt.gcf().axes[-1]\n",
    "cax.tick_params(labelsize=24)\n",
    "\n",
    "plt.yticks(rotation=0, size=24) \n",
    "plt.xticks(rotation=90, size=24)\n",
    "plt.title(\"Pearson's Correlation\", size=30, weight='bold')\n",
    "plt.show()"
   ]
  },
  {
   "cell_type": "code",
   "execution_count": null,
   "metadata": {
    "collapsed": false
   },
   "outputs": [],
   "source": []
  },
  {
   "cell_type": "code",
   "execution_count": null,
   "metadata": {
    "collapsed": false
   },
   "outputs": [],
   "source": []
  },
  {
   "cell_type": "code",
   "execution_count": null,
   "metadata": {
    "collapsed": false
   },
   "outputs": [],
   "source": []
  },
  {
   "cell_type": "code",
   "execution_count": null,
   "metadata": {
    "collapsed": false
   },
   "outputs": [],
   "source": []
  }
 ],
 "metadata": {
  "kernelspec": {
   "display_name": "Python 2",
   "language": "python",
   "name": "python2"
  },
  "language_info": {
   "codemirror_mode": {
    "name": "ipython",
    "version": 2
   },
   "file_extension": ".py",
   "mimetype": "text/x-python",
   "name": "python",
   "nbconvert_exporter": "python",
   "pygments_lexer": "ipython2",
   "version": "2.7.10"
  }
 },
 "nbformat": 4,
 "nbformat_minor": 0
}
