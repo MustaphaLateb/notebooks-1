{
 "cells": [
  {
   "cell_type": "code",
   "execution_count": 1,
   "metadata": {
    "collapsed": false
   },
   "outputs": [],
   "source": [
    "import numpy as np\n",
    "import pandas as pd\n",
    "import matplotlib.pyplot as plt\n",
    "import seaborn\n",
    "import datetime as dt"
   ]
  },
  {
   "cell_type": "code",
   "execution_count": 2,
   "metadata": {
    "collapsed": false
   },
   "outputs": [],
   "source": [
    "import yatsm\n",
    "from yatsm.io import read_pixel_timeseries\n",
    "from yatsm.utils import csvfile_to_dataframe, get_image_IDs\n",
    "from yatsm.config_parser import convert_config, parse_config_file\n",
    "from yatsm.config_parser import convert_config, parse_config_file\n",
    "import yatsm._cyprep as cyprep"
   ]
  },
  {
   "cell_type": "code",
   "execution_count": 18,
   "metadata": {
    "collapsed": false
   },
   "outputs": [],
   "source": [
    "## SPECIFY CONFIG FILE\n",
    "config_file = '/projectnb/landsat/projects/Massachusetts/p012r031/p012r031_config.yaml'\n",
    "\n",
    "# Read in and parse config file\n",
    "cfg = parse_config_file(config_file)"
   ]
  },
  {
   "cell_type": "code",
   "execution_count": 4,
   "metadata": {
    "collapsed": false
   },
   "outputs": [],
   "source": [
    "# Get files list\n",
    "df = csvfile_to_dataframe(cfg['dataset']['input_file'], \\\n",
    "                          date_format=cfg['dataset']['date_format'])"
   ]
  },
  {
   "cell_type": "code",
   "execution_count": 5,
   "metadata": {
    "collapsed": false
   },
   "outputs": [],
   "source": [
    "# Get dates\n",
    "df['image_ID'] = get_image_IDs(df['filename']) \n",
    "df['x'] = df['date'] \n",
    "dates = df['date'].values"
   ]
  },
  {
   "cell_type": "code",
   "execution_count": 6,
   "metadata": {
    "collapsed": true
   },
   "outputs": [],
   "source": [
    "# SPECIFY PIXEL TO RUN\n",
    "py = 4538 # row\n",
    "px = 4622 # column"
   ]
  },
  {
   "cell_type": "code",
   "execution_count": 7,
   "metadata": {
    "collapsed": false
   },
   "outputs": [],
   "source": [
    "# Configure model\n",
    "model = cfg['YATSM']['algorithm_cls']\n",
    "algo_cfg = cfg[cfg['YATSM']['algorithm']]\n",
    "yatsm = model(estimator=cfg['YATSM']['estimator'], \\\n",
    "                  **algo_cfg.get('init', {}))\n",
    "yatsm.px = px\n",
    "yatsm.py = py"
   ]
  },
  {
   "cell_type": "code",
   "execution_count": null,
   "metadata": {
    "collapsed": false
   },
   "outputs": [],
   "source": [
    "# Setup algorithm and create design matrix (if needed)\n",
    "#X = yatsm.setup(df, **cfg)\n",
    "#design_info = getattr(X, 'design_info', None)"
   ]
  },
  {
   "cell_type": "code",
   "execution_count": 8,
   "metadata": {
    "collapsed": false
   },
   "outputs": [],
   "source": [
    "# Read in time series as numpy array\n",
    "Y = read_pixel_timeseries(df['filename'], px, py)"
   ]
  },
  {
   "cell_type": "code",
   "execution_count": 9,
   "metadata": {
    "collapsed": false
   },
   "outputs": [],
   "source": [
    "# Mask based on physical constraints and Fmask \n",
    "valid = cyprep.get_valid_mask( \\\n",
    "            Y, \\\n",
    "            cfg['dataset']['min_values'], \\\n",
    "            cfg['dataset']['max_values']).astype(bool)\n",
    "\n",
    "# Apply mask band\n",
    "idx_mask = cfg['dataset']['mask_band'] - 1\n",
    "valid *= np.in1d(Y.take(idx_mask, axis=0), \\\n",
    "                         cfg['dataset']['mask_values'], \\\n",
    "                         invert=True).astype(np.bool)\n",
    "\n",
    "Y = np.delete(Y, idx_mask, axis=0)[:, valid]\n",
    "#X = X[valid, :]\n",
    "dates = dates[valid]"
   ]
  },
  {
   "cell_type": "code",
   "execution_count": 10,
   "metadata": {
    "collapsed": false
   },
   "outputs": [],
   "source": [
    "dt_dates = np.array([dt.datetime.fromordinal(d) for d in dates])"
   ]
  },
  {
   "cell_type": "code",
   "execution_count": 11,
   "metadata": {
    "collapsed": false
   },
   "outputs": [],
   "source": [
    "# Plot time series - visual check\n",
    "plt.plot(dt_dates, Y[7, :],'ko')\n",
    "plt.show()"
   ]
  },
  {
   "cell_type": "code",
   "execution_count": 12,
   "metadata": {
    "collapsed": false
   },
   "outputs": [],
   "source": [
    "# Read np array into pandas dataframe - exclude Fmask result\n",
    "Y_df = pd.DataFrame(Y[0:10])"
   ]
  },
  {
   "cell_type": "code",
   "execution_count": 16,
   "metadata": {
    "collapsed": false
   },
   "outputs": [],
   "source": [
    "# Transpose time series dataframe for correlation analysis\n",
    "Y_t = Y_df.transpose()\n",
    "Y_t.columns = ['Blue', 'Green', 'Red', 'NIR', 'SWIR1', 'SWIR2', \\\n",
    "                        'Thermal', 'Brightness', 'Greenness', 'Wetness'] "
   ]
  },
  {
   "cell_type": "code",
   "execution_count": 17,
   "metadata": {
    "collapsed": false
   },
   "outputs": [
    {
     "data": {
      "text/html": [
       "<div>\n",
       "<table border=\"1\" class=\"dataframe\">\n",
       "  <thead>\n",
       "    <tr style=\"text-align: right;\">\n",
       "      <th></th>\n",
       "      <th>Blue</th>\n",
       "      <th>Green</th>\n",
       "      <th>Red</th>\n",
       "      <th>NIR</th>\n",
       "      <th>SWIR1</th>\n",
       "      <th>SWIR2</th>\n",
       "      <th>Thermal</th>\n",
       "      <th>Brightness</th>\n",
       "      <th>Greenness</th>\n",
       "      <th>Wetness</th>\n",
       "    </tr>\n",
       "  </thead>\n",
       "  <tbody>\n",
       "    <tr>\n",
       "      <th>Blue</th>\n",
       "      <td>1.000000</td>\n",
       "      <td>0.975799</td>\n",
       "      <td>0.955879</td>\n",
       "      <td>0.936266</td>\n",
       "      <td>0.914087</td>\n",
       "      <td>0.916465</td>\n",
       "      <td>0.196379</td>\n",
       "      <td>0.954145</td>\n",
       "      <td>0.099785</td>\n",
       "      <td>-0.878688</td>\n",
       "    </tr>\n",
       "    <tr>\n",
       "      <th>Green</th>\n",
       "      <td>0.975799</td>\n",
       "      <td>1.000000</td>\n",
       "      <td>0.987799</td>\n",
       "      <td>0.960491</td>\n",
       "      <td>0.937813</td>\n",
       "      <td>0.937874</td>\n",
       "      <td>0.226050</td>\n",
       "      <td>0.977501</td>\n",
       "      <td>0.112700</td>\n",
       "      <td>-0.899280</td>\n",
       "    </tr>\n",
       "    <tr>\n",
       "      <th>Red</th>\n",
       "      <td>0.955879</td>\n",
       "      <td>0.987799</td>\n",
       "      <td>1.000000</td>\n",
       "      <td>0.974316</td>\n",
       "      <td>0.958465</td>\n",
       "      <td>0.952386</td>\n",
       "      <td>0.209376</td>\n",
       "      <td>0.988096</td>\n",
       "      <td>0.154416</td>\n",
       "      <td>-0.921435</td>\n",
       "    </tr>\n",
       "    <tr>\n",
       "      <th>NIR</th>\n",
       "      <td>0.936266</td>\n",
       "      <td>0.960491</td>\n",
       "      <td>0.974316</td>\n",
       "      <td>1.000000</td>\n",
       "      <td>0.973327</td>\n",
       "      <td>0.965795</td>\n",
       "      <td>0.236916</td>\n",
       "      <td>0.991375</td>\n",
       "      <td>0.353700</td>\n",
       "      <td>-0.944942</td>\n",
       "    </tr>\n",
       "    <tr>\n",
       "      <th>SWIR1</th>\n",
       "      <td>0.914087</td>\n",
       "      <td>0.937813</td>\n",
       "      <td>0.958465</td>\n",
       "      <td>0.973327</td>\n",
       "      <td>1.000000</td>\n",
       "      <td>0.990001</td>\n",
       "      <td>0.210523</td>\n",
       "      <td>0.986470</td>\n",
       "      <td>0.254123</td>\n",
       "      <td>-0.990470</td>\n",
       "    </tr>\n",
       "    <tr>\n",
       "      <th>SWIR2</th>\n",
       "      <td>0.916465</td>\n",
       "      <td>0.937874</td>\n",
       "      <td>0.952386</td>\n",
       "      <td>0.965795</td>\n",
       "      <td>0.990001</td>\n",
       "      <td>1.000000</td>\n",
       "      <td>0.210741</td>\n",
       "      <td>0.982781</td>\n",
       "      <td>0.216499</td>\n",
       "      <td>-0.992159</td>\n",
       "    </tr>\n",
       "    <tr>\n",
       "      <th>Thermal</th>\n",
       "      <td>0.196379</td>\n",
       "      <td>0.226050</td>\n",
       "      <td>0.209376</td>\n",
       "      <td>0.236916</td>\n",
       "      <td>0.210523</td>\n",
       "      <td>0.210741</td>\n",
       "      <td>1.000000</td>\n",
       "      <td>0.222201</td>\n",
       "      <td>0.167571</td>\n",
       "      <td>-0.201025</td>\n",
       "    </tr>\n",
       "    <tr>\n",
       "      <th>Brightness</th>\n",
       "      <td>0.954145</td>\n",
       "      <td>0.977501</td>\n",
       "      <td>0.988096</td>\n",
       "      <td>0.991375</td>\n",
       "      <td>0.986470</td>\n",
       "      <td>0.982781</td>\n",
       "      <td>0.222201</td>\n",
       "      <td>1.000000</td>\n",
       "      <td>0.236355</td>\n",
       "      <td>-0.963277</td>\n",
       "    </tr>\n",
       "    <tr>\n",
       "      <th>Greenness</th>\n",
       "      <td>0.099785</td>\n",
       "      <td>0.112700</td>\n",
       "      <td>0.154416</td>\n",
       "      <td>0.353700</td>\n",
       "      <td>0.254123</td>\n",
       "      <td>0.216499</td>\n",
       "      <td>0.167571</td>\n",
       "      <td>0.236355</td>\n",
       "      <td>1.000000</td>\n",
       "      <td>-0.240562</td>\n",
       "    </tr>\n",
       "    <tr>\n",
       "      <th>Wetness</th>\n",
       "      <td>-0.878688</td>\n",
       "      <td>-0.899280</td>\n",
       "      <td>-0.921435</td>\n",
       "      <td>-0.944942</td>\n",
       "      <td>-0.990470</td>\n",
       "      <td>-0.992159</td>\n",
       "      <td>-0.201025</td>\n",
       "      <td>-0.963277</td>\n",
       "      <td>-0.240562</td>\n",
       "      <td>1.000000</td>\n",
       "    </tr>\n",
       "  </tbody>\n",
       "</table>\n",
       "</div>"
      ],
      "text/plain": [
       "                Blue     Green       Red       NIR     SWIR1     SWIR2  \\\n",
       "Blue        1.000000  0.975799  0.955879  0.936266  0.914087  0.916465   \n",
       "Green       0.975799  1.000000  0.987799  0.960491  0.937813  0.937874   \n",
       "Red         0.955879  0.987799  1.000000  0.974316  0.958465  0.952386   \n",
       "NIR         0.936266  0.960491  0.974316  1.000000  0.973327  0.965795   \n",
       "SWIR1       0.914087  0.937813  0.958465  0.973327  1.000000  0.990001   \n",
       "SWIR2       0.916465  0.937874  0.952386  0.965795  0.990001  1.000000   \n",
       "Thermal     0.196379  0.226050  0.209376  0.236916  0.210523  0.210741   \n",
       "Brightness  0.954145  0.977501  0.988096  0.991375  0.986470  0.982781   \n",
       "Greenness   0.099785  0.112700  0.154416  0.353700  0.254123  0.216499   \n",
       "Wetness    -0.878688 -0.899280 -0.921435 -0.944942 -0.990470 -0.992159   \n",
       "\n",
       "             Thermal  Brightness  Greenness   Wetness  \n",
       "Blue        0.196379    0.954145   0.099785 -0.878688  \n",
       "Green       0.226050    0.977501   0.112700 -0.899280  \n",
       "Red         0.209376    0.988096   0.154416 -0.921435  \n",
       "NIR         0.236916    0.991375   0.353700 -0.944942  \n",
       "SWIR1       0.210523    0.986470   0.254123 -0.990470  \n",
       "SWIR2       0.210741    0.982781   0.216499 -0.992159  \n",
       "Thermal     1.000000    0.222201   0.167571 -0.201025  \n",
       "Brightness  0.222201    1.000000   0.236355 -0.963277  \n",
       "Greenness   0.167571    0.236355   1.000000 -0.240562  \n",
       "Wetness    -0.201025   -0.963277  -0.240562  1.000000  "
      ]
     },
     "execution_count": 17,
     "metadata": {},
     "output_type": "execute_result"
    }
   ],
   "source": [
    "# Calculate pearson correlation matrix\n",
    "corr_df = Y_t.corr(method='pearson')\n",
    "corr_df"
   ]
  },
  {
   "cell_type": "code",
   "execution_count": 20,
   "metadata": {
    "collapsed": false
   },
   "outputs": [],
   "source": [
    "# Create a mask to display only the lower triangle of the matrix (since it's mirrored around its \n",
    "# top-left to bottom-right diagonal).\n",
    "mask = np.zeros_like(corr_df)\n",
    "mask[np.triu_indices_from(mask, 1)] = True\n",
    "\n",
    "# Create the heatmap using seaborn library. \n",
    "# List if colormaps (parameter 'cmap') is available here: http://matplotlib.org/examples/color/colormaps_reference.html\n",
    "\n",
    "plt.figure(figsize=(24,18),facecolor='w', edgecolor='k')\n",
    "seaborn.heatmap(corr_df, cmap='seismic', vmax=1.0, vmin=-1.0, linewidths=2.5, mask = mask, square=True)\n",
    "seaborn.heatmap(corr_df, cmap='gist_rainbow', cbar=False, annot=True, fmt='0.2f', annot_kws={\"size\": 24}, alpha=0.0, square=True)\n",
    "\n",
    "# Show the plot we reorient the labels for each column and row to make them easier to read.\n",
    "cax = plt.gcf().axes[-1]\n",
    "cax.tick_params(labelsize=24)\n",
    "\n",
    "plt.yticks(rotation=0, size=24) \n",
    "plt.xticks(rotation=90, size=24)\n",
    "plt.title(\"Pearson's Correlation\", size=30, weight='bold')\n",
    "plt.show()"
   ]
  },
  {
   "cell_type": "code",
   "execution_count": null,
   "metadata": {
    "collapsed": false
   },
   "outputs": [],
   "source": []
  },
  {
   "cell_type": "code",
   "execution_count": null,
   "metadata": {
    "collapsed": false
   },
   "outputs": [],
   "source": []
  },
  {
   "cell_type": "code",
   "execution_count": null,
   "metadata": {
    "collapsed": false
   },
   "outputs": [],
   "source": []
  },
  {
   "cell_type": "code",
   "execution_count": null,
   "metadata": {
    "collapsed": false
   },
   "outputs": [],
   "source": []
  }
 ],
 "metadata": {
  "kernelspec": {
   "display_name": "Python 2",
   "language": "python",
   "name": "python2"
  },
  "language_info": {
   "codemirror_mode": {
    "name": "ipython",
    "version": 2
   },
   "file_extension": ".py",
   "mimetype": "text/x-python",
   "name": "python",
   "nbconvert_exporter": "python",
   "pygments_lexer": "ipython2",
   "version": "2.7.10"
  }
 },
 "nbformat": 4,
 "nbformat_minor": 0
}
